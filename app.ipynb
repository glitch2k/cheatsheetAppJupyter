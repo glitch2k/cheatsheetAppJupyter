{
 "cells": [
  {
   "cell_type": "code",
   "execution_count": 1,
   "id": "unsigned-stage",
   "metadata": {},
   "outputs": [],
   "source": [
    "from flask import Flask, render_template, redirect, request"
   ]
  },
  {
   "cell_type": "code",
   "execution_count": 2,
   "id": "greatest-gamma",
   "metadata": {
    "scrolled": true
   },
   "outputs": [],
   "source": [
    "from forms import inputData"
   ]
  },
  {
   "cell_type": "code",
   "execution_count": 3,
   "id": "introductory-enhancement",
   "metadata": {},
   "outputs": [],
   "source": [
    "app = Flask(__name__)"
   ]
  },
  {
   "cell_type": "markdown",
   "id": "aggregate-sense",
   "metadata": {},
   "source": [
    "- this config is used in conjunction with WTFORMS"
   ]
  },
  {
   "cell_type": "code",
   "execution_count": 4,
   "id": "contemporary-crawford",
   "metadata": {},
   "outputs": [],
   "source": [
    "app.config['SECRET_KEY'] = 'glitch'"
   ]
  },
  {
   "cell_type": "markdown",
   "id": "appreciated-external",
   "metadata": {},
   "source": [
    "- this is a route that tell flask how to get to this page and display it.\n",
    "-  at the browser when [127.0.0.1:5000/] is entered flask will call upon the \n",
    "- \"home\" python function.\n",
    "- that \"home\" python function will then do what ever that is in the return section\n",
    "- of the function.\n",
    "- in this case it will return the text \" search\" & \"update\" with html tags search update"
   ]
  },
  {
   "cell_type": "code",
   "execution_count": 5,
   "id": "funded-nurse",
   "metadata": {},
   "outputs": [],
   "source": [
    "@app.route(\"/\")\n",
    "def home():\n",
    "    return render_template('home.html')"
   ]
  },
  {
   "cell_type": "markdown",
   "id": "small-lodge",
   "metadata": {},
   "source": [
    "- this route will be used to access the function that will allow the user to enter a new cheatsheet item\n",
    "- it is called upon by typing the following in the URL bar \"127.0.0.1:5000/newitem\"\n",
    "- or it can be called upon but another function by using its function name \"newitem\""
   ]
  },
  {
   "cell_type": "code",
   "execution_count": 6,
   "id": "hungarian-elite",
   "metadata": {},
   "outputs": [],
   "source": [
    "@app.route(\"/newitem\", methods=['GET', 'POST'])\n",
    "def newitem():\n",
    "    form = inputData()\n",
    "    if form.is_submitted():\n",
    "        result = request.form\n",
    "        return render_template('dataFromForms.html', result=result)\n",
    "    return render_template('input.html', form=form)"
   ]
  },
  {
   "cell_type": "code",
   "execution_count": null,
   "id": "designed-waste",
   "metadata": {},
   "outputs": [
    {
     "name": "stdout",
     "output_type": "stream",
     "text": [
      " * Serving Flask app \"__main__\" (lazy loading)\n",
      " * Environment: production\n",
      "   WARNING: This is a development server. Do not use it in a production deployment.\n",
      "   Use a production WSGI server instead.\n",
      " * Debug mode: off\n"
     ]
    },
    {
     "name": "stderr",
     "output_type": "stream",
     "text": [
      " * Running on http://127.0.0.1:5000/ (Press CTRL+C to quit)\n",
      "127.0.0.1 - - [16/Feb/2021 10:52:54] \"\u001b[37mGET / HTTP/1.1\u001b[0m\" 200 -\n",
      "127.0.0.1 - - [16/Feb/2021 10:52:57] \"\u001b[37mGET /newitem HTTP/1.1\u001b[0m\" 200 -\n",
      "127.0.0.1 - - [16/Feb/2021 10:52:58] \"\u001b[37mGET /newitem HTTP/1.1\u001b[0m\" 200 -\n",
      "127.0.0.1 - - [16/Feb/2021 10:53:02] \"\u001b[37mPOST /newitem HTTP/1.1\u001b[0m\" 200 -\n",
      "127.0.0.1 - - [16/Feb/2021 10:53:09] \"\u001b[37mGET /newitem HTTP/1.1\u001b[0m\" 200 -\n"
     ]
    }
   ],
   "source": [
    "if __name__ == \"__main__\":\n",
    "    app.run()"
   ]
  },
  {
   "cell_type": "code",
   "execution_count": null,
   "id": "congressional-scott",
   "metadata": {},
   "outputs": [],
   "source": []
  }
 ],
 "metadata": {
  "kernelspec": {
   "display_name": "Python 3",
   "language": "python",
   "name": "python3"
  },
  "language_info": {
   "codemirror_mode": {
    "name": "ipython",
    "version": 3
   },
   "file_extension": ".py",
   "mimetype": "text/x-python",
   "name": "python",
   "nbconvert_exporter": "python",
   "pygments_lexer": "ipython3",
   "version": "3.8.5"
  }
 },
 "nbformat": 4,
 "nbformat_minor": 5
}
