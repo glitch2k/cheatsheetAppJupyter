{
 "cells": [
  {
   "cell_type": "code",
   "execution_count": 4,
   "id": "lesser-devices",
   "metadata": {},
   "outputs": [],
   "source": [
    "from flask_wtf import FlaskForm"
   ]
  },
  {
   "cell_type": "code",
   "execution_count": 5,
   "id": "gross-chapter",
   "metadata": {},
   "outputs": [],
   "source": [
    "from wtforms import StringField, SubmitField"
   ]
  },
  {
   "cell_type": "markdown",
   "id": "handmade-extreme",
   "metadata": {},
   "source": [
    "- create a Class from FlaskForm and add custom parameters for the project"
   ]
  },
  {
   "cell_type": "code",
   "execution_count": 6,
   "id": "promising-moral",
   "metadata": {},
   "outputs": [],
   "source": [
    "class inputData(FlaskForm):\n",
    "    item = StringField('Task')\n",
    "    command = StringField('Command')\n",
    "    example = StringField('Example')\n",
    "    submit = SubmitField('Submit Item')"
   ]
  },
  {
   "cell_type": "code",
   "execution_count": null,
   "id": "educated-toner",
   "metadata": {},
   "outputs": [],
   "source": []
  }
 ],
 "metadata": {
  "kernelspec": {
   "display_name": "Python 3",
   "language": "python",
   "name": "python3"
  },
  "language_info": {
   "codemirror_mode": {
    "name": "ipython",
    "version": 3
   },
   "file_extension": ".py",
   "mimetype": "text/x-python",
   "name": "python",
   "nbconvert_exporter": "python",
   "pygments_lexer": "ipython3",
   "version": "3.8.5"
  }
 },
 "nbformat": 4,
 "nbformat_minor": 5
}
