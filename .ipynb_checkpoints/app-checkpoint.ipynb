{
 "cells": [
  {
   "cell_type": "code",
   "execution_count": 3,
   "id": "recorded-official",
   "metadata": {},
   "outputs": [],
   "source": [
    "from flask import Flask, render_template, redirect, request"
   ]
  },
  {
   "cell_type": "code",
   "execution_count": 4,
   "id": "abstract-flooring",
   "metadata": {
    "scrolled": true
   },
   "outputs": [
    {
     "ename": "ModuleNotFoundError",
     "evalue": "No module named 'flask_wtf'",
     "output_type": "error",
     "traceback": [
      "\u001b[0;31m---------------------------------------------------------------------------\u001b[0m",
      "\u001b[0;31mModuleNotFoundError\u001b[0m                       Traceback (most recent call last)",
      "\u001b[0;32m<ipython-input-4-a2d7010fd3c1>\u001b[0m in \u001b[0;36m<module>\u001b[0;34m\u001b[0m\n\u001b[0;32m----> 1\u001b[0;31m \u001b[0;32mfrom\u001b[0m \u001b[0mforms\u001b[0m \u001b[0;32mimport\u001b[0m \u001b[0minputData\u001b[0m\u001b[0;34m\u001b[0m\u001b[0;34m\u001b[0m\u001b[0m\n\u001b[0m",
      "\u001b[0;32m~/Documents/pythonRelated/cheatsheetAppJupyter/forms.py\u001b[0m in \u001b[0;36m<module>\u001b[0;34m\u001b[0m\n\u001b[0;32m----> 1\u001b[0;31m \u001b[0;32mfrom\u001b[0m \u001b[0mflask_wtf\u001b[0m \u001b[0;32mimport\u001b[0m \u001b[0mFlaskForm\u001b[0m\u001b[0;34m\u001b[0m\u001b[0;34m\u001b[0m\u001b[0m\n\u001b[0m\u001b[1;32m      2\u001b[0m \u001b[0;32mfrom\u001b[0m \u001b[0mwtforms\u001b[0m \u001b[0;32mimport\u001b[0m \u001b[0mStringField\u001b[0m\u001b[0;34m,\u001b[0m \u001b[0mSubmitField\u001b[0m\u001b[0;34m\u001b[0m\u001b[0;34m\u001b[0m\u001b[0m\n\u001b[1;32m      3\u001b[0m \u001b[0;34m\u001b[0m\u001b[0m\n\u001b[1;32m      4\u001b[0m \u001b[0;31m# create a Class from FlaskForm and add custom parameters for the project\u001b[0m\u001b[0;34m\u001b[0m\u001b[0;34m\u001b[0m\u001b[0;34m\u001b[0m\u001b[0m\n\u001b[1;32m      5\u001b[0m \u001b[0;32mclass\u001b[0m \u001b[0minputData\u001b[0m\u001b[0;34m(\u001b[0m\u001b[0mFlaskForm\u001b[0m\u001b[0;34m)\u001b[0m\u001b[0;34m:\u001b[0m\u001b[0;34m\u001b[0m\u001b[0;34m\u001b[0m\u001b[0m\n",
      "\u001b[0;31mModuleNotFoundError\u001b[0m: No module named 'flask_wtf'"
     ]
    }
   ],
   "source": [
    "from forms import inputData"
   ]
  },
  {
   "cell_type": "code",
   "execution_count": null,
   "id": "fabulous-principle",
   "metadata": {},
   "outputs": [],
   "source": [
    "app = Flask(__name__)"
   ]
  },
  {
   "cell_type": "markdown",
   "id": "comprehensive-regular",
   "metadata": {},
   "source": [
    "- this config is used in conjunction with WTFORMS"
   ]
  },
  {
   "cell_type": "code",
   "execution_count": null,
   "id": "extensive-heritage",
   "metadata": {},
   "outputs": [],
   "source": [
    "app.config['SECRET_KEY'] = 'glitch'"
   ]
  },
  {
   "cell_type": "markdown",
   "id": "fabulous-brand",
   "metadata": {},
   "source": [
    "- this is a route that tell flask how to get to this page and display it.\n",
    "-  at the browser when [127.0.0.1:5000/] is entered flask will call upon the \n",
    "- \"home\" python function.\n",
    "- that \"home\" python function will then do what ever that is in the return section\n",
    "- of the function.\n",
    "- in this case it will return the text \" search\" & \"update\" with html tags search update"
   ]
  },
  {
   "cell_type": "code",
   "execution_count": null,
   "id": "through-newcastle",
   "metadata": {},
   "outputs": [],
   "source": [
    "@app.route(\"/\")\n",
    "def home():\n",
    "    return render_template('home.html')"
   ]
  },
  {
   "cell_type": "markdown",
   "id": "sensitive-sunglasses",
   "metadata": {},
   "source": [
    "- this route will be used to access the function that will allow the user to enter a new cheatsheet item\n",
    "- it is called upon by typing the following in the URL bar \"127.0.0.1:5000/newitem\"\n",
    "- or it can be called upon but another function by using its function name \"newitem\""
   ]
  },
  {
   "cell_type": "code",
   "execution_count": null,
   "id": "subjective-smith",
   "metadata": {},
   "outputs": [],
   "source": [
    "@app.route(\"/newitem\", methods=['GET', 'POST'])\n",
    "def newitem():\n",
    "    form = inputData()\n",
    "    if form.is_submitted():\n",
    "        result = request.form\n",
    "        return render_template('dataFromForms.html', result=result)\n",
    "    return render_template('input.html', form=form)"
   ]
  },
  {
   "cell_type": "code",
   "execution_count": null,
   "id": "danish-delta",
   "metadata": {},
   "outputs": [],
   "source": [
    "if __name__ == \"__main__\":\n",
    "    app.run()"
   ]
  },
  {
   "cell_type": "code",
   "execution_count": null,
   "id": "artistic-garbage",
   "metadata": {},
   "outputs": [],
   "source": []
  }
 ],
 "metadata": {
  "kernelspec": {
   "display_name": "Python 3",
   "language": "python",
   "name": "python3"
  }
 },
 "nbformat": 4,
 "nbformat_minor": 5
}
